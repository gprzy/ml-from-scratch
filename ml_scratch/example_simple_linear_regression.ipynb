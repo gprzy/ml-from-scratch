{
 "cells": [
  {
   "attachments": {},
   "cell_type": "markdown",
   "metadata": {},
   "source": [
    "# Regressão linear simples"
   ]
  },
  {
   "cell_type": "code",
   "execution_count": 1,
   "metadata": {},
   "outputs": [],
   "source": [
    "import numpy as np\n",
    "import matplotlib.pyplot as plt\n",
    "\n",
    "from linear_regression import LinearRegression"
   ]
  },
  {
   "cell_type": "markdown",
   "metadata": {},
   "source": [
    "## Média, variância e covariância\n",
    "\n",
    "**Média $\\bar{x}$**\n",
    "\\begin{aligned}\n",
    "\\bar{x} &= \\frac{1}{n} \\sum_{i=1}^{n} x_i \\\\\n",
    "\\end{aligned}\n",
    "\n",
    "**Variância $S_x$**\n",
    "\\begin{aligned}\n",
    "S_{x} &= \\sum_{i=1}^{n} (x_i - \\bar{x})^2 \\\\\n",
    "\\end{aligned}\n",
    "\n",
    "**Covariância $S_{xy}$**\n",
    "\\begin{aligned}\n",
    "S_{xy} &= \\sum_{i=1}^{n} (x_i - \\bar{x})(y_i - \\bar{y}) \\\\\n",
    "\\end{aligned}"
   ]
  },
  {
   "cell_type": "markdown",
   "metadata": {},
   "source": [
    "# Regressão linear simples\n",
    "\n",
    "**Objetivo**\n",
    "\n",
    "Encontrar os parâmetros $\\beta_0$ e $\\beta_1$, para assim obter a função linear $y$\n",
    "\n",
    "$$y = \\beta_0x + \\beta_1$$\n",
    "\n",
    "**Obtendo os parâmetros**\n",
    "\n",
    "1. Obtém-se as médias de $x$ e $y$;\n",
    "2. Obtém-se a variância $S_x$ de $x$;\n",
    "3. Obtém-se a covariância entre $x$ e $y$;\n",
    "4. Obtém-se o coeficiente angular $\\beta_0$ da linha de regressão, dado por\n",
    "\n",
    "\\begin{aligned}\n",
    "\\beta_0 &= \\frac{S_{xy}}{S_{x}} \\\\\n",
    "\\end{aligned}\n",
    "\n",
    "5. Obtém-se o intercepto $\\beta_1$ da linha de regressão, dado por\n",
    "\n",
    "\\begin{aligned}\n",
    "\\beta_1 &= \\bar{y} - \\beta_0\\bar{x} \\\\\n",
    "\\end{aligned}\n",
    "\n",
    "A equação completa da linha de regressão simples é\n",
    "\n",
    "$$y = \\beta_0x + \\beta_1$$\n",
    "\n",
    "\\begin{aligned}\n",
    "y &= \\left( \\frac{S_{xy}}{S_{x}} \\right)x + \\left( \\bar{y} - \\left( \\frac{S_{xy}}{S_{x}} \\right)\\bar{x} \\right)\n",
    "\\end{aligned}"
   ]
  },
  {
   "attachments": {},
   "cell_type": "markdown",
   "metadata": {},
   "source": [
    "## Exemplo básico\n",
    "\n",
    "Utilizando\n",
    "\n",
    "$$x = \\begin{pmatrix}1, 2, 3, 4, 5, 5, 4, 6, 3, 2, 3, 4, 5, 1, 3\\end{pmatrix}$$\n",
    "$$y = \\begin{pmatrix}2, 3, 5, 8, 8, 9, 9, 9, 6, 5, 5, 8, 9, 3, 7\\end{pmatrix}$$"
   ]
  },
  {
   "cell_type": "code",
   "execution_count": 3,
   "metadata": {},
   "outputs": [],
   "source": [
    "x = np.array([1, 2, 3, 4, 5, 5, 4, 6, 3, 2, 3, 4, 5, 1, 3])\n",
    "y = np.array([2, 3, 5, 8, 8, 9, 9, 9, 6, 5, 5, 8, 9, 3, 7])"
   ]
  },
  {
   "cell_type": "code",
   "execution_count": 3,
   "metadata": {},
   "outputs": [
    {
     "data": {
      "image/png": "[encoded data removed]",
      "text/plain": [
       "<Figure size 640x480 with 1 Axes>"
      ]
     },
     "metadata": {},
     "output_type": "display_data"
    }
   ],
   "source": [
    "plt.title('Dados observados');\n",
    "plt.xlabel('$X$');\n",
    "plt.ylabel('$Y$');\n",
    "\n",
    "plt.scatter(x, y, label='$(X, Y)$');\n",
    "\n",
    "plt.legend();"
   ]
  },
  {
   "attachments": {},
   "cell_type": "markdown",
   "metadata": {},
   "source": [
    "**Obtendo $\\beta_0$ e $\\beta_1$**\n",
    "\n",
    "1. Obtendo as médias de $x$ e $y$\n",
    "\n",
    "$$\\bar{x} = 3.4$$\n",
    "$$\\bar{y} = 6.4$$"
   ]
  },
  {
   "cell_type": "code",
   "execution_count": 4,
   "metadata": {},
   "outputs": [
    {
     "data": {
      "text/plain": [
       "(3.4, 6.4)"
      ]
     },
     "execution_count": 4,
     "metadata": {},
     "output_type": "execute_result"
    }
   ],
   "source": [
    "x_hat = x.mean()\n",
    "y_hat = y.mean()\n",
    "\n",
    "x_hat, y_hat"
   ]
  },
  {
   "attachments": {},
   "cell_type": "markdown",
   "metadata": {},
   "source": [
    "2. Obtendo a variância $S_x$ de $x$\n",
    "\n",
    "$$S_x \\approx 2.10$$"
   ]
  },
  {
   "cell_type": "code",
   "execution_count": 5,
   "metadata": {},
   "outputs": [
    {
     "data": {
      "text/plain": [
       "2.106666666666667"
      ]
     },
     "execution_count": 5,
     "metadata": {},
     "output_type": "execute_result"
    }
   ],
   "source": [
    "s_x = x.std()**2\n",
    "s_x"
   ]
  },
  {
   "attachments": {},
   "cell_type": "markdown",
   "metadata": {},
   "source": [
    "3. Obtendo a covariância $S_{xy}$ entre $x$ e $y$\n",
    "\n",
    "$$S_{xy} \\approx 3.39$$"
   ]
  },
  {
   "cell_type": "code",
   "execution_count": 6,
   "metadata": {},
   "outputs": [
    {
     "data": {
      "text/plain": [
       "3.3999999999999995"
      ]
     },
     "execution_count": 6,
     "metadata": {},
     "output_type": "execute_result"
    }
   ],
   "source": [
    "s_xy = np.cov(x, y)[0, 1]\n",
    "s_xy"
   ]
  },
  {
   "attachments": {},
   "cell_type": "markdown",
   "metadata": {},
   "source": [
    "4. Obtendo $\\beta_0$, coeficiente angular ou \"slope\" da reta\n",
    "\n",
    "$$\\beta_0 \\approx 1.61$$"
   ]
  },
  {
   "cell_type": "code",
   "execution_count": 7,
   "metadata": {},
   "outputs": [
    {
     "data": {
      "text/plain": [
       "1.613924050632911"
      ]
     },
     "execution_count": 7,
     "metadata": {},
     "output_type": "execute_result"
    }
   ],
   "source": [
    "slope = s_xy / s_x\n",
    "slope"
   ]
  },
  {
   "attachments": {},
   "cell_type": "markdown",
   "metadata": {},
   "source": [
    "4. Obtendo $\\beta_1$, intercepto ou \"intercept\" da reta\n",
    "\n",
    "$$\\beta_1 \\approx 0.91$$"
   ]
  },
  {
   "cell_type": "code",
   "execution_count": 8,
   "metadata": {},
   "outputs": [
    {
     "data": {
      "text/plain": [
       "0.9126582278481035"
      ]
     },
     "execution_count": 8,
     "metadata": {},
     "output_type": "execute_result"
    }
   ],
   "source": [
    "intercept = y_hat - slope*x_hat\n",
    "intercept"
   ]
  },
  {
   "attachments": {},
   "cell_type": "markdown",
   "metadata": {},
   "source": [
    "A equação linear de regressão fica\n",
    "\n",
    "$$y = 1.61x + 0.91$$"
   ]
  },
  {
   "cell_type": "code",
   "execution_count": 4,
   "metadata": {},
   "outputs": [
    {
     "data": {
      "text/plain": [
       "(1.613924050632911, 0.9126582278481035)"
      ]
     },
     "execution_count": 4,
     "metadata": {},
     "output_type": "execute_result"
    }
   ],
   "source": [
    "lr = LinearRegression()\n",
    "lr.fit(x, y)\n",
    "\n",
    "lr.slope, lr.intercept"
   ]
  },
  {
   "cell_type": "code",
   "execution_count": 9,
   "metadata": {},
   "outputs": [],
   "source": [
    "linear_function = lambda x, slope, intercept: slope*x + intercept"
   ]
  },
  {
   "cell_type": "code",
   "execution_count": 10,
   "metadata": {},
   "outputs": [
    {
     "data": {
      "image/png": "[encoded data removed]",
      "text/plain": [
       "<Figure size 640x480 with 1 Axes>"
      ]
     },
     "metadata": {},
     "output_type": "display_data"
    }
   ],
   "source": [
    "plt.scatter(x, y, label='$(X, Y)$');\n",
    "\n",
    "plt.title('Regressão linear');\n",
    "plt.xlabel('$X$');\n",
    "plt.ylabel('$Y$');\n",
    "\n",
    "plt.plot(\n",
    "    x, linear_function(x, slope=slope, intercept=intercept),\n",
    "    color='orange',\n",
    "    label=f'$y = {round(slope, 2)}x + {round(intercept, 2)}$'\n",
    ");\n",
    "\n",
    "plt.legend();"
   ]
  }
 ],
 "metadata": {
  "kernelspec": {
   "display_name": "Python 3",
   "language": "python",
   "name": "python3"
  },
  "language_info": {
   "codemirror_mode": {
    "name": "ipython",
    "version": 3
   },
   "file_extension": ".py",
   "mimetype": "text/x-python",
   "name": "python",
   "nbconvert_exporter": "python",
   "pygments_lexer": "ipython3",
   "version": "3.9.13"
  },
  "orig_nbformat": 4
 },
 "nbformat": 4,
 "nbformat_minor": 2
}
