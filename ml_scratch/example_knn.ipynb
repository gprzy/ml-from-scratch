{
 "cells": [
  {
   "cell_type": "markdown",
   "metadata": {},
   "source": [
    "### Distância euclidiana\n",
    "\n",
    "Para este exemplo, será utilizada a **distância euclidiana** entre dois pontos.\n",
    "\n",
    "**Duas dimensões**\n",
    "\n",
    "Tem-se $p = (x_1, y_1)$ e $q = (x_2, y_2)$, onde a distância é dada por\n",
    "\n",
    "$$d(p,q) = \\sqrt{(x_2 - x_1)^2 + (y_2 - y_1)^2}$$\n",
    "\n",
    "**$n$ dimensões**\n",
    "\n",
    "Tem-se\n",
    "\n",
    "- $p = (x_1, x_2, x_3 \\dots , x_n)$\n",
    "- $q = (y_1, y_2, y_3 \\dots, y_n)$\n",
    "\n",
    "Onde generalizando a fórmula bidimensional, tem-se\n",
    "\n",
    "$$d(p,q) = \\sqrt{(x_1 - y_1)^2 + (x_2 - y_2)^2 + (x_3 - y_3)^2 + \\dots + (x_n - y_n)^2}$$\n",
    "$$d(p,q) = \\sqrt{\\sum_{i=1}^{n} (x_i - y_i)^2}$$"
   ]
  },
  {
   "cell_type": "markdown",
   "metadata": {},
   "source": [
    "## Definição do modelo\n",
    "\n",
    "Partindo de um conjunto $D$ de pontos no espaço para treinamento\n",
    "\n",
    "$$D = \\{(x_1, y_1), (x_2, y_2), ..., (x_n, y_n)\\}$$\n",
    "\n",
    "Onde\n",
    "\n",
    "- $x_i \\in \\mathbb{R}^d$ é um vetor de características;\n",
    "- $d$ é o número de dimensões;\n",
    "- $y_i$ é a classe associada ao vetor de características $x_i$;\n",
    "\n",
    "Partindo de um ponto $q$, de classe desconhecida, obtém-se a distância euclidiana entre esse ponto e todos os demais pontos de $D$\n",
    "\n",
    "$$d(x_i, q) = \\sqrt{\\sum_{j=1}^d (x_{ij} - q_j)^2}$$\n",
    "\n",
    "Onde\n",
    "\n",
    "- $x_{ij}$ é a $j$-ésima coordenada do vetor de características $x_i$;\n",
    "- $q_j$ é a $j$-ésima coordenada do ponto de consulta $q$;\n",
    "\n",
    "**Classificação**\n",
    "\n",
    "Para obter a predição $y_q$ do ponto $q$, utiliza-se\n",
    "\n",
    "$$y_q = \\text{moda}(y_{i_1}, y_{i_2}, ..., y_{i_k})$$\n",
    "\n",
    "Onde $y_{i_1}, y_{i_2}, \\dots, y_{i_k}$ são as classes correspondentes aos $k$ pontos mais próximos a $q$. \n",
    "\n",
    "**Regressão**\n",
    "\n",
    "Para problemas de regressão, utiliza-se a média dos valores de saída como a saída prevista, sendo\n",
    "\n",
    "$$y_q = \\frac{1}{k} \\sum_{i=1}^k y_{i}$$"
   ]
  }
 ],
 "metadata": {
  "language_info": {
   "name": "python"
  },
  "orig_nbformat": 4
 },
 "nbformat": 4,
 "nbformat_minor": 2
}
