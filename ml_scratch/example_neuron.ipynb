{
 "cells": [
  {
   "cell_type": "markdown",
   "metadata": {},
   "source": [
    "# Neurônio"
   ]
  },
  {
   "cell_type": "code",
   "execution_count": 2,
   "metadata": {},
   "outputs": [],
   "source": [
    "import numpy as np\n",
    "\n",
    "import sys\n",
    "sys.path.append('..')\n",
    "\n",
    "from ml_scratch.neuron import Neuron\n",
    "from ml_scratch.functions.binary_functions import sigmoid"
   ]
  },
  {
   "cell_type": "markdown",
   "metadata": {},
   "source": [
    "Para este exemplo, será utilizada a função **sigmóide** como função de ativação\n",
    "\n",
    "$$y = \\frac{1}{1 + e^{-x}}$$"
   ]
  },
  {
   "cell_type": "markdown",
   "metadata": {},
   "source": [
    "## Obtendo a saída de um neurônio\n",
    "\n",
    "Soma ponderada entre a entrada e os pesos\n",
    "$$z = \\sum_{i=1}^n w_ix_i + b$$\n",
    "\n",
    "Ou simplesmente\n",
    "\n",
    "$$z = \\textbf{w}^T \\textbf{x} + b$$\n",
    "\n",
    "Onde\n",
    "- $\\textbf{w}$ é o vetor de pesos;\n",
    "- $\\textbf{x}$ é o vetor de entrada;\n",
    "- $b$ é o viés;\n",
    "\n",
    "Valor de saída do neurônio\n",
    "$$y = \\frac{1}{1 + e^{-z}}$$\n",
    "$$y = \\frac{1}{1 + e^{-(\\sum_{i=1}^n w_ix_i + b)}}$$"
   ]
  },
  {
   "cell_type": "markdown",
   "metadata": {},
   "source": [
    "## Exemplo prático"
   ]
  },
  {
   "cell_type": "code",
   "execution_count": 3,
   "metadata": {},
   "outputs": [
    {
     "data": {
      "text/plain": [
       "0.9525741268224334"
      ]
     },
     "execution_count": 3,
     "metadata": {},
     "output_type": "execute_result"
    }
   ],
   "source": [
    "weights = [1, 1]\n",
    "inputs = [1, 3]\n",
    "bias = -1\n",
    "\n",
    "neuron = Neuron(\n",
    "    weights=weights,\n",
    "    bias=bias,\n",
    "    activation=sigmoid\n",
    ")\n",
    "\n",
    "output = neuron.forward(inputs=inputs)\n",
    "output"
   ]
  },
  {
   "cell_type": "markdown",
   "metadata": {},
   "source": [
    "No exemplo acima, temos o vetor de entrada $\\textbf{x}$, o vetor de pesos $\\textbf{w}$ e o bias $b$\n",
    "\n",
    "$$\\textbf{x} = \\begin{pmatrix}1, 3\\end{pmatrix}$$\n",
    "$$\\textbf{w} = \\begin{pmatrix}1, 1\\end{pmatrix}$$\n",
    "$$b = -1$$\n",
    "\n",
    "Encontrando o valor $z$ da soma ponderada\n",
    "\n",
    "$$z = (1 \\cdot 1) + (3 \\cdot 1) + b$$\n",
    "$$z = 1 + 3 - 1$$\n",
    "$$z = 3$$\n",
    "\n",
    "Obtendo o valor de saída aplicando $z$ na função sigmóide\n",
    "\n",
    "$$y = \\frac{1}{1 + e^{(-3)}}$$\n",
    "$$y \\approx 0.9525$$"
   ]
  },
  {
   "cell_type": "code",
   "execution_count": null,
   "metadata": {},
   "outputs": [
    {
     "data": {
      "text/plain": [
       "0.9525741268224334"
      ]
     },
     "metadata": {},
     "output_type": "display_data"
    }
   ],
   "source": [
    "sigmoid(3)"
   ]
  }
 ],
 "metadata": {
  "kernelspec": {
   "display_name": "Python 3",
   "language": "python",
   "name": "python3"
  },
  "language_info": {
   "codemirror_mode": {
    "name": "ipython",
    "version": 3
   },
   "file_extension": ".py",
   "mimetype": "text/x-python",
   "name": "python",
   "nbconvert_exporter": "python",
   "pygments_lexer": "ipython3",
   "version": "3.9.13"
  },
  "orig_nbformat": 4
 },
 "nbformat": 4,
 "nbformat_minor": 2
}
