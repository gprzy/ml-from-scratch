{
 "cells": [
  {
   "cell_type": "code",
   "execution_count": 1,
   "metadata": {},
   "outputs": [],
   "source": [
    "import sys\n",
    "sys.path.append('..')\n",
    "\n",
    "import numpy as np\n",
    "import pandas as pd\n",
    "\n",
    "from sklearn.datasets import load_wine\n",
    "from sklearn.model_selection import train_test_split\n",
    "\n",
    "from ml_scratch.knn import KNNClassifier\n",
    "from sklearn.neighbors import KNeighborsClassifier\n",
    "\n",
    "from sklearn.metrics import classification_report"
   ]
  },
  {
   "attachments": {},
   "cell_type": "markdown",
   "metadata": {},
   "source": [
    "## Carregando a base `wine`"
   ]
  },
  {
   "cell_type": "code",
   "execution_count": 2,
   "metadata": {},
   "outputs": [
    {
     "data": {
      "text/plain": [
       "((178, 13), (178,))"
      ]
     },
     "execution_count": 2,
     "metadata": {},
     "output_type": "execute_result"
    }
   ],
   "source": [
    "X, y = load_wine(return_X_y=True)\n",
    "X.shape, y.shape"
   ]
  },
  {
   "cell_type": "code",
   "execution_count": 3,
   "metadata": {},
   "outputs": [],
   "source": [
    "(X_train, \n",
    " X_test,\n",
    " y_train,\n",
    " y_test) = train_test_split(\n",
    "    X, y, \n",
    "    test_size=.3, \n",
    "    shuffle=True,\n",
    "    random_state=42\n",
    ")"
   ]
  },
  {
   "attachments": {},
   "cell_type": "markdown",
   "metadata": {},
   "source": [
    "### Distância euclidiana\n",
    "\n",
    "Para este exemplo, será utilizada a **distância euclidiana** entre dois pontos.\n",
    "\n",
    "**Duas dimensões**\n",
    "\n",
    "Tem-se $p = (x_1, y_1)$ e $q = (x_2, y_2)$, onde a distância é dada por\n",
    "\n",
    "$$d(p,q) = \\sqrt{(x_2 - x_1)^2 + (y_2 - y_1)^2}$$\n",
    "\n",
    "**$n$ dimensões**\n",
    "\n",
    "Tem-se\n",
    "\n",
    "- $p = (x_1, x_2, x_3 \\dots , x_n)$\n",
    "- $q = (y_1, y_2, y_3 \\dots, y_n)$\n",
    "\n",
    "Onde generalizando a fórmula bidimensional, tem-se\n",
    "\n",
    "$$d(p,q) = \\sqrt{(x_1 - y_1)^2 + (x_2 - y_2)^2 + (x_3 - y_3)^2 + \\dots + (x_n - y_n)^2}$$\n",
    "$$d(p,q) = \\sqrt{\\sum_{i=1}^{n} (x_i - y_i)^2}$$"
   ]
  },
  {
   "attachments": {},
   "cell_type": "markdown",
   "metadata": {},
   "source": [
    "## Definição do modelo\n",
    "\n",
    "Partindo de um conjunto $D$ de pontos no espaço para treinamento\n",
    "\n",
    "$$D = \\{(x_1, y_1), (x_2, y_2), ..., (x_n, y_n)\\}$$\n",
    "\n",
    "Onde\n",
    "\n",
    "- $x_i \\in \\mathbb{R}^d$ é um vetor de características;\n",
    "- $d$ é o número de dimensões;\n",
    "- $y_i$ é a classe associada ao vetor de características $x_i$;\n",
    "\n",
    "Partindo de um ponto $q$, de classe desconhecida, obtém-se a distância euclidiana entre esse ponto e todos os demais pontos de $D$\n",
    "\n",
    "$$d(x_i, q) = \\sqrt{\\sum_{j=1}^d (x_{ij} - q_j)^2}$$\n",
    "\n",
    "Onde\n",
    "\n",
    "- $x_{ij}$ é a $j$-ésima coordenada do vetor de características $x_i$;\n",
    "- $q_j$ é a $j$-ésima coordenada do ponto de consulta $q$;\n",
    "\n",
    "**Classificação**\n",
    "\n",
    "Para obter a predição $y_q$ do ponto $q$, utiliza-se\n",
    "\n",
    "$$y_q = \\text{moda}(y_{i_1}, y_{i_2}, ..., y_{i_k})$$\n",
    "\n",
    "Onde $y_{i_1}, y_{i_2}, \\dots, y_{i_k}$ são as classes correspondentes aos $k$ pontos mais próximos a $q$. \n",
    "\n",
    "**Regressão**\n",
    "\n",
    "Para problemas de regressão, utiliza-se a média dos valores de saída como a saída prevista, sendo\n",
    "\n",
    "$$y_q = \\frac{1}{k} \\sum_{i=1}^k y_{i}$$"
   ]
  },
  {
   "cell_type": "code",
   "execution_count": 4,
   "metadata": {},
   "outputs": [],
   "source": [
    "params = {\n",
    "    'n_neighbors': 3,\n",
    "    'metric': 'euclidean'\n",
    "}"
   ]
  },
  {
   "cell_type": "code",
   "execution_count": 5,
   "metadata": {},
   "outputs": [
    {
     "data": {
      "text/plain": [
       "[2, 0, 2, 0, 1]"
      ]
     },
     "execution_count": 5,
     "metadata": {},
     "output_type": "execute_result"
    }
   ],
   "source": [
    "knn = KNNClassifier(**params)\n",
    "knn.fit(X_train, y_train)\n",
    "y_pred_scratch = knn.predict(X_test)\n",
    "\n",
    "y_pred_scratch[:5]"
   ]
  },
  {
   "attachments": {},
   "cell_type": "markdown",
   "metadata": {},
   "source": [
    "## Utilizando a implementação do `sklearn`"
   ]
  },
  {
   "cell_type": "code",
   "execution_count": 6,
   "metadata": {},
   "outputs": [],
   "source": [
    "clf = KNeighborsClassifier(**params)\n",
    "clf.fit(X_train, y_train)\n",
    "y_pred_sklearn = clf.predict(X_test)"
   ]
  },
  {
   "attachments": {},
   "cell_type": "markdown",
   "metadata": {},
   "source": [
    "## Comparando"
   ]
  },
  {
   "cell_type": "code",
   "execution_count": 7,
   "metadata": {},
   "outputs": [
    {
     "name": "stdout",
     "output_type": "stream",
     "text": [
      "True\n",
      "              precision    recall  f1-score   support\n",
      "\n",
      "           0       0.89      0.89      0.89        19\n",
      "           1       0.75      0.71      0.73        21\n",
      "           2       0.53      0.57      0.55        14\n",
      "\n",
      "    accuracy                           0.74        54\n",
      "   macro avg       0.73      0.73      0.73        54\n",
      "weighted avg       0.74      0.74      0.74        54\n",
      "\n"
     ]
    }
   ],
   "source": [
    "# the predictions are equal?\n",
    "print(all(y_pred_scratch == y_pred_sklearn))\n",
    "\n",
    "print(classification_report(y_test, y_pred_scratch))"
   ]
  }
 ],
 "metadata": {
  "kernelspec": {
   "display_name": "Python 3",
   "language": "python",
   "name": "python3"
  },
  "language_info": {
   "codemirror_mode": {
    "name": "ipython",
    "version": 3
   },
   "file_extension": ".py",
   "mimetype": "text/x-python",
   "name": "python",
   "nbconvert_exporter": "python",
   "pygments_lexer": "ipython3",
   "version": "3.10.10"
  },
  "orig_nbformat": 4
 },
 "nbformat": 4,
 "nbformat_minor": 2
}
