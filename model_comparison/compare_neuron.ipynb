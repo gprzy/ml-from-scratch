{
 "cells": [
  {
   "cell_type": "code",
   "execution_count": 3,
   "metadata": {},
   "outputs": [],
   "source": [
    "import numpy as np\n",
    "\n",
    "import sys\n",
    "sys.path.append('..')\n",
    "\n",
    "from ml_scratch.neuron import Neuron\n",
    "from ml_scratch.functions.binary_functions import sigmoid\n",
    "\n",
    "from tensorflow.keras.layers import Dense\n",
    "from tensorflow.keras.models import Sequential"
   ]
  },
  {
   "attachments": {},
   "cell_type": "markdown",
   "metadata": {},
   "source": [
    "# Neurônio"
   ]
  },
  {
   "attachments": {},
   "cell_type": "markdown",
   "metadata": {},
   "source": [
    "Para este exemplo, será utilizada a função **sigmóide** como função de ativação\n",
    "\n",
    "$$y = \\frac{1}{1 + e^{-x}}$$"
   ]
  },
  {
   "attachments": {},
   "cell_type": "markdown",
   "metadata": {},
   "source": [
    "## Obtendo a saída de um neurônio\n",
    "\n",
    "Soma ponderada entre a entrada e os pesos\n",
    "$$z = \\sum_{i=1}^n w_ix_i + b$$\n",
    "\n",
    "Ou simplesmente\n",
    "\n",
    "$$z = \\textbf{w}^T \\textbf{x} + b$$\n",
    "\n",
    "Onde\n",
    "- $\\textbf{w}$ é o vetor de pesos;\n",
    "- $\\textbf{x}$ é o vetor de entrada;\n",
    "- $b$ é o viés;\n",
    "\n",
    "Valor de saída do neurônio\n",
    "$$y = \\frac{1}{1 + e^{-z}}$$\n",
    "$$y = \\frac{1}{1 + e^{-(\\sum_{i=1}^n w_ix_i + b)}}$$"
   ]
  },
  {
   "attachments": {},
   "cell_type": "markdown",
   "metadata": {},
   "source": [
    "## Exemplo prático"
   ]
  },
  {
   "cell_type": "code",
   "execution_count": 4,
   "metadata": {},
   "outputs": [
    {
     "data": {
      "text/plain": [
       "0.9525741268224334"
      ]
     },
     "execution_count": 4,
     "metadata": {},
     "output_type": "execute_result"
    }
   ],
   "source": [
    "weights = [1, 1]\n",
    "inputs = [1, 3]\n",
    "bias = -1\n",
    "\n",
    "neuron = Neuron(\n",
    "    weights=weights,\n",
    "    bias=bias,\n",
    "    activation=sigmoid\n",
    ")\n",
    "\n",
    "output = neuron.forward(inputs=inputs)\n",
    "output"
   ]
  },
  {
   "attachments": {},
   "cell_type": "markdown",
   "metadata": {},
   "source": [
    "No exemplo acima, temos o vetor de entrada $\\textbf{x}$, o vetor de pesos $\\textbf{w}$ e o bias $b$\n",
    "\n",
    "$$\\textbf{x} = \\begin{pmatrix}1, 3\\end{pmatrix}$$\n",
    "$$\\textbf{w} = \\begin{pmatrix}1, 1\\end{pmatrix}$$\n",
    "$$b = -1$$\n",
    "\n",
    "Encontrando o valor $z$ da soma ponderada\n",
    "\n",
    "$$z = (1 \\cdot 1) + (3 \\cdot 1) + b$$\n",
    "$$z = 1 + 3 - 1$$\n",
    "$$z = 3$$\n",
    "\n",
    "Obtendo o valor de saída aplicando $z$ na função sigmóide\n",
    "\n",
    "$$y = \\frac{1}{1 + e^{(-3)}}$$\n",
    "$$y \\approx 0.9525$$"
   ]
  },
  {
   "cell_type": "code",
   "execution_count": 5,
   "metadata": {},
   "outputs": [
    {
     "data": {
      "text/plain": [
       "0.9525741268224334"
      ]
     },
     "execution_count": 5,
     "metadata": {},
     "output_type": "execute_result"
    }
   ],
   "source": [
    "sigmoid(3)"
   ]
  },
  {
   "attachments": {},
   "cell_type": "markdown",
   "metadata": {},
   "source": [
    "## Utilizando a implementação do `tensorflow`"
   ]
  },
  {
   "cell_type": "code",
   "execution_count": 6,
   "metadata": {},
   "outputs": [],
   "source": [
    "model = Sequential()\n",
    "model.add(Dense(units=1, activation='sigmoid', input_shape=(2,)))"
   ]
  },
  {
   "cell_type": "code",
   "execution_count": 7,
   "metadata": {},
   "outputs": [
    {
     "data": {
      "text/plain": [
       "array([[1, 3]])"
      ]
     },
     "execution_count": 7,
     "metadata": {},
     "output_type": "execute_result"
    }
   ],
   "source": [
    "# inputs\n",
    "inputs = np.array(inputs).reshape(1,2)\n",
    "inputs"
   ]
  },
  {
   "cell_type": "code",
   "execution_count": 8,
   "metadata": {},
   "outputs": [
    {
     "data": {
      "text/plain": [
       "array([[1],\n",
       "       [1]])"
      ]
     },
     "execution_count": 8,
     "metadata": {},
     "output_type": "execute_result"
    }
   ],
   "source": [
    "# weights\n",
    "weights = np.array(weights).reshape(2,1)\n",
    "weights"
   ]
  },
  {
   "cell_type": "code",
   "execution_count": 9,
   "metadata": {},
   "outputs": [
    {
     "data": {
      "text/plain": [
       "array([-1])"
      ]
     },
     "execution_count": 9,
     "metadata": {},
     "output_type": "execute_result"
    }
   ],
   "source": [
    "# bias\n",
    "bias = np.array([bias])\n",
    "bias"
   ]
  },
  {
   "cell_type": "code",
   "execution_count": 10,
   "metadata": {},
   "outputs": [
    {
     "name": "stdout",
     "output_type": "stream",
     "text": [
      "1/1 [==============================] - 0s 94ms/step\n"
     ]
    },
    {
     "data": {
      "text/plain": [
       "array([[0.95257413]], dtype=float32)"
      ]
     },
     "execution_count": 10,
     "metadata": {},
     "output_type": "execute_result"
    }
   ],
   "source": [
    "model.set_weights([weights, bias])\n",
    "\n",
    "output = model.predict(inputs)\n",
    "output"
   ]
  }
 ],
 "metadata": {
  "kernelspec": {
   "display_name": "Python 3",
   "language": "python",
   "name": "python3"
  },
  "language_info": {
   "codemirror_mode": {
    "name": "ipython",
    "version": 3
   },
   "file_extension": ".py",
   "mimetype": "text/x-python",
   "name": "python",
   "nbconvert_exporter": "python",
   "pygments_lexer": "ipython3",
   "version": "3.10.10"
  },
  "orig_nbformat": 4
 },
 "nbformat": 4,
 "nbformat_minor": 2
}
